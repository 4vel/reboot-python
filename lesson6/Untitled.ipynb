{
 "cells": [
  {
   "cell_type": "code",
   "execution_count": 1,
   "id": "bb4007a9",
   "metadata": {},
   "outputs": [],
   "source": [
    "from superpackg.sp import * "
   ]
  },
  {
   "cell_type": "code",
   "execution_count": 2,
   "id": "1dcd936d",
   "metadata": {},
   "outputs": [
    {
     "name": "stdout",
     "output_type": "stream",
     "text": [
      "helloooooo\n"
     ]
    }
   ],
   "source": [
    "print_hello()"
   ]
  },
  {
   "cell_type": "code",
   "execution_count": 1,
   "id": "15a37856",
   "metadata": {},
   "outputs": [],
   "source": [
    "import pandas as pd"
   ]
  },
  {
   "cell_type": "code",
   "execution_count": 9,
   "id": "1fbf6944",
   "metadata": {},
   "outputs": [],
   "source": [
    "df = pd.DataFrame({'pole1':[1,2,3], 'pole2':[11,22,33]})"
   ]
  },
  {
   "cell_type": "code",
   "execution_count": 12,
   "id": "d0a414f2",
   "metadata": {},
   "outputs": [],
   "source": [
    "pole2 = df.pole2.tolist()"
   ]
  },
  {
   "cell_type": "code",
   "execution_count": 13,
   "id": "80034d6a",
   "metadata": {},
   "outputs": [
    {
     "data": {
      "text/plain": [
       "[11, 22, 33]"
      ]
     },
     "execution_count": 13,
     "metadata": {},
     "output_type": "execute_result"
    }
   ],
   "source": [
    "pole2"
   ]
  },
  {
   "cell_type": "code",
   "execution_count": 14,
   "id": "cfe6614e",
   "metadata": {},
   "outputs": [
    {
     "name": "stderr",
     "output_type": "stream",
     "text": [
      "/var/folders/5h/hvzpymp94m30tv1byr90pwj80000gn/T/ipykernel_10162/3219755866.py:1: UserWarning: Pandas doesn't allow columns to be created via a new attribute name - see https://pandas.pydata.org/pandas-docs/stable/indexing.html#attribute-access\n",
      "  df.pole3 = [11,22,33]\n"
     ]
    }
   ],
   "source": [
    "df.pole3 = [11,22,33]"
   ]
  },
  {
   "cell_type": "code",
   "execution_count": 15,
   "id": "c2cf0fbd",
   "metadata": {},
   "outputs": [],
   "source": [
    "df['pole3'] = [11,22,33]"
   ]
  },
  {
   "cell_type": "code",
   "execution_count": 18,
   "id": "da4b3f9d",
   "metadata": {},
   "outputs": [
    {
     "data": {
      "text/plain": [
       "list"
      ]
     },
     "execution_count": 18,
     "metadata": {},
     "output_type": "execute_result"
    }
   ],
   "source": [
    "type(df.pole3)"
   ]
  },
  {
   "cell_type": "code",
   "execution_count": 19,
   "id": "023cacb4",
   "metadata": {},
   "outputs": [
    {
     "data": {
      "text/plain": [
       "pandas.core.series.Series"
      ]
     },
     "execution_count": 19,
     "metadata": {},
     "output_type": "execute_result"
    }
   ],
   "source": [
    "type(df['pole3'])"
   ]
  },
  {
   "cell_type": "code",
   "execution_count": 22,
   "id": "ef685555",
   "metadata": {},
   "outputs": [
    {
     "data": {
      "text/plain": [
       "pandas.core.frame.DataFrame"
      ]
     },
     "execution_count": 22,
     "metadata": {},
     "output_type": "execute_result"
    }
   ],
   "source": [
    "type(df[['pole1','pole3']])"
   ]
  },
  {
   "cell_type": "code",
   "execution_count": 27,
   "id": "0f8934f1",
   "metadata": {},
   "outputs": [
    {
     "data": {
      "text/html": [
       "<div>\n",
       "<style scoped>\n",
       "    .dataframe tbody tr th:only-of-type {\n",
       "        vertical-align: middle;\n",
       "    }\n",
       "\n",
       "    .dataframe tbody tr th {\n",
       "        vertical-align: top;\n",
       "    }\n",
       "\n",
       "    .dataframe thead tr th {\n",
       "        text-align: left;\n",
       "    }\n",
       "\n",
       "    .dataframe thead tr:last-of-type th {\n",
       "        text-align: right;\n",
       "    }\n",
       "</style>\n",
       "<table border=\"1\" class=\"dataframe\">\n",
       "  <thead>\n",
       "    <tr>\n",
       "      <th></th>\n",
       "      <th colspan=\"2\" halign=\"left\">pole2</th>\n",
       "      <th colspan=\"2\" halign=\"left\">pole3</th>\n",
       "    </tr>\n",
       "    <tr>\n",
       "      <th></th>\n",
       "      <th>count</th>\n",
       "      <th>mean</th>\n",
       "      <th>count</th>\n",
       "      <th>mean</th>\n",
       "    </tr>\n",
       "    <tr>\n",
       "      <th>pole1</th>\n",
       "      <th></th>\n",
       "      <th></th>\n",
       "      <th></th>\n",
       "      <th></th>\n",
       "    </tr>\n",
       "  </thead>\n",
       "  <tbody>\n",
       "    <tr>\n",
       "      <th>1</th>\n",
       "      <td>1</td>\n",
       "      <td>11.0</td>\n",
       "      <td>1</td>\n",
       "      <td>11.0</td>\n",
       "    </tr>\n",
       "    <tr>\n",
       "      <th>2</th>\n",
       "      <td>1</td>\n",
       "      <td>22.0</td>\n",
       "      <td>1</td>\n",
       "      <td>22.0</td>\n",
       "    </tr>\n",
       "    <tr>\n",
       "      <th>3</th>\n",
       "      <td>1</td>\n",
       "      <td>33.0</td>\n",
       "      <td>1</td>\n",
       "      <td>33.0</td>\n",
       "    </tr>\n",
       "  </tbody>\n",
       "</table>\n",
       "</div>"
      ],
      "text/plain": [
       "      pole2       pole3      \n",
       "      count  mean count  mean\n",
       "pole1                        \n",
       "1         1  11.0     1  11.0\n",
       "2         1  22.0     1  22.0\n",
       "3         1  33.0     1  33.0"
      ]
     },
     "execution_count": 27,
     "metadata": {},
     "output_type": "execute_result"
    }
   ],
   "source": [
    "df.groupby('pole1')[['pole2','pole3']].agg({'count','mean'})"
   ]
  },
  {
   "cell_type": "code",
   "execution_count": 29,
   "id": "7796fb9e",
   "metadata": {},
   "outputs": [
    {
     "data": {
      "text/html": [
       "<div>\n",
       "<style scoped>\n",
       "    .dataframe tbody tr th:only-of-type {\n",
       "        vertical-align: middle;\n",
       "    }\n",
       "\n",
       "    .dataframe tbody tr th {\n",
       "        vertical-align: top;\n",
       "    }\n",
       "\n",
       "    .dataframe thead th {\n",
       "        text-align: right;\n",
       "    }\n",
       "</style>\n",
       "<table border=\"1\" class=\"dataframe\">\n",
       "  <thead>\n",
       "    <tr style=\"text-align: right;\">\n",
       "      <th></th>\n",
       "      <th>pole2</th>\n",
       "      <th>pole3</th>\n",
       "    </tr>\n",
       "  </thead>\n",
       "  <tbody>\n",
       "    <tr>\n",
       "      <th>0</th>\n",
       "      <td>121</td>\n",
       "      <td>121</td>\n",
       "    </tr>\n",
       "    <tr>\n",
       "      <th>1</th>\n",
       "      <td>484</td>\n",
       "      <td>484</td>\n",
       "    </tr>\n",
       "    <tr>\n",
       "      <th>2</th>\n",
       "      <td>1089</td>\n",
       "      <td>1089</td>\n",
       "    </tr>\n",
       "  </tbody>\n",
       "</table>\n",
       "</div>"
      ],
      "text/plain": [
       "   pole2  pole3\n",
       "0    121    121\n",
       "1    484    484\n",
       "2   1089   1089"
      ]
     },
     "execution_count": 29,
     "metadata": {},
     "output_type": "execute_result"
    }
   ],
   "source": [
    "t1 = df.pole1 == 1\n",
    "t2 = df.pole2 == 2\n",
    "sp = ['pole2','pole3']\n",
    "df[t1|t2].groupby('pole1')[sp].apply(lambda x:x**2) \n"
   ]
  },
  {
   "cell_type": "code",
   "execution_count": 30,
   "id": "5b5faf96",
   "metadata": {},
   "outputs": [],
   "source": [
    "import json"
   ]
  },
  {
   "cell_type": "code",
   "execution_count": 31,
   "id": "645b5d88",
   "metadata": {},
   "outputs": [],
   "source": [
    "some_dict = {'pole1':[1,2,3], 'pole2':[11,22,33]}"
   ]
  },
  {
   "cell_type": "code",
   "execution_count": 35,
   "id": "f30450dc",
   "metadata": {},
   "outputs": [],
   "source": [
    "with open('somejsonfile.json', 'w') as f:\n",
    "    json.dump(some_dict,f)"
   ]
  },
  {
   "cell_type": "code",
   "execution_count": 41,
   "id": "a1bf455d",
   "metadata": {},
   "outputs": [
    {
     "name": "stdout",
     "output_type": "stream",
     "text": [
      "Untitled.ipynb\r\n",
      "another_super_script.py\r\n",
      "jsonfile.csv\r\n",
      "setup.py\r\n",
      "somejsonfile.json\r\n",
      "\u001b[34msuperpackg\u001b[m\u001b[m/\r\n",
      "telecom_churn.csv\r\n",
      "Задачи_для_кандидатов.ipynb\r\n"
     ]
    }
   ],
   "source": [
    "ls"
   ]
  },
  {
   "cell_type": "code",
   "execution_count": 37,
   "id": "1cdedb79",
   "metadata": {},
   "outputs": [
    {
     "name": "stdout",
     "output_type": "stream",
     "text": [
      "{\"pole1\": [1, 2, 3], \"pole2\": [11, 22, 33]}"
     ]
    }
   ],
   "source": [
    "cat somejsonfile.json"
   ]
  },
  {
   "cell_type": "code",
   "execution_count": 44,
   "id": "4504abcc",
   "metadata": {},
   "outputs": [
    {
     "data": {
      "text/plain": [
       "{'pole1': [1, 2, 3], 'pole2': [11, 22, 33]}"
      ]
     },
     "execution_count": 44,
     "metadata": {},
     "output_type": "execute_result"
    }
   ],
   "source": []
  },
  {
   "cell_type": "code",
   "execution_count": 39,
   "id": "5537c86f",
   "metadata": {},
   "outputs": [],
   "source": [
    "df = pd.read_json('somejsonfile.json')"
   ]
  },
  {
   "cell_type": "code",
   "execution_count": 40,
   "id": "9c1e239b",
   "metadata": {},
   "outputs": [],
   "source": [
    "df.to_csv('jsonfile.csv')"
   ]
  },
  {
   "cell_type": "code",
   "execution_count": 42,
   "id": "87174496",
   "metadata": {},
   "outputs": [
    {
     "name": "stdout",
     "output_type": "stream",
     "text": [
      ",pole1,pole2\r\n",
      "0,1,11\r\n",
      "1,2,22\r\n",
      "2,3,33\r\n"
     ]
    }
   ],
   "source": [
    "cat jsonfile.csv"
   ]
  },
  {
   "cell_type": "code",
   "execution_count": 43,
   "id": "1e5e9d9f",
   "metadata": {},
   "outputs": [],
   "source": [
    "def myfunc():\n",
    "    \"\"\" Выводит слово helloo\n",
    "    \n",
    "    \"\"\"\n",
    "    \n",
    "    print('helloo')"
   ]
  },
  {
   "cell_type": "code",
   "execution_count": null,
   "id": "68fb557c",
   "metadata": {},
   "outputs": [],
   "source": [
    "myfunc()"
   ]
  }
 ],
 "metadata": {
  "kernelspec": {
   "display_name": "Python 3 (ipykernel)",
   "language": "python",
   "name": "python3"
  },
  "language_info": {
   "codemirror_mode": {
    "name": "ipython",
    "version": 3
   },
   "file_extension": ".py",
   "mimetype": "text/x-python",
   "name": "python",
   "nbconvert_exporter": "python",
   "pygments_lexer": "ipython3",
   "version": "3.9.2"
  }
 },
 "nbformat": 4,
 "nbformat_minor": 5
}
